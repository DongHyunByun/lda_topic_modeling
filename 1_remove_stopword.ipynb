{
 "cells": [
  {
   "cell_type": "markdown",
   "metadata": {},
   "source": [
    "# 학습데이터(위키피디아) 가져오기"
   ]
  },
  {
   "cell_type": "code",
   "execution_count": 1,
   "metadata": {
    "id": "vnjViL-z_Wdo"
   },
   "outputs": [],
   "source": [
    "#불용어 제거되지않은 데이터 불러오기\n",
    "import pickle\n",
    "\n",
    "path='data.p'\n",
    "# load data\n",
    "with open(path, 'rb') as fr:\n",
    "    user_loaded = pickle.load(fr)"
   ]
  },
  {
   "cell_type": "code",
   "execution_count": 2,
   "metadata": {},
   "outputs": [
    {
     "name": "stdout",
     "output_type": "stream",
     "text": [
      "1997233\n"
     ]
    }
   ],
   "source": [
    "print(len(user_loaded))"
   ]
  },
  {
   "cell_type": "code",
   "execution_count": 11,
   "metadata": {},
   "outputs": [
    {
     "name": "stdout",
     "output_type": "stream",
     "text": [
      "<class 'list'>\n",
      "TaggedDocument(['순수한', 'Win', '32', 'API', '만', '사용', '했으며', '별도', '의', '외부', '라이브러리', '를', '사용', '하지', '않았기', '때문', '에', '에디터', '제작', '교육', '용', '프로그램', '으로', '유용하며', '전문가', '개인', '의', '커스터', '마이', '징용', '또는', 'IDE', '개발', '용', '프로그램', '등', '활', '용도', '가', '높다'], ['410885'])\n"
     ]
    }
   ],
   "source": [
    "# 데이터 타입 및 데이터 확인\n",
    "print(type(user_loaded))\n",
    "print(user_loaded[2])"
   ]
  },
  {
   "cell_type": "markdown",
   "metadata": {},
   "source": [
    "# 불용어 파일 불러오기"
   ]
  },
  {
   "cell_type": "code",
   "execution_count": 3,
   "metadata": {
    "colab": {
     "base_uri": "https://localhost:8080/",
     "height": 54
    },
    "id": "60jKVsevAP8q",
    "outputId": "99eadc7f-aef5-4bfe-ae26-f2544280a412"
   },
   "outputs": [
    {
     "name": "stdout",
     "output_type": "stream",
     "text": [
      "{'', '바꾸어서 한다면', '때문', '오르다', '하였다', '하더라도', '매우', '면', '의거하여', '틈타', '대해', '남짓', '여차', '몇', '아니면', '하는 편이 낫다', '만약', '댕그', '있어', '관계없이', '할수있다', '아이고', '을', '쿠', '해야한다', '요', '그래서', '하려고하다', '휴', '이지만', '적', '2월', '혹은', '은', '그렇지않으면', '어느곳', '과의', '딩동', '의', '하겠는가', '호로', '할 생각이다', '각자', '5월', '할때', '거의', '우', '따라', '경', '이용하여', '된', '등', '그러나', '역은', '지말고', '까악', '그에 따르는', '어이', '있고', '아니나다를가', '과연', '하지마', '비길수 없다', '하', '우르르', '이라는', '거바', '서', '응당', '도', '임에 틀림없다', '_', '툭', '얼마나', '그치지 않다', '앞에서', '만은 아니다', '뿐만 아니라', '만큼', '같은', '일것이다', '설령', '소인', '졸졸', '비록', '예를 들자면', '중', '물론', '니', '어느때', '그래도', '할수있어', '얼마간', '1', '그러므로', '오', '바꾸어말하면', '딱', '한 까닭에', '솨', '한다면 몰라도', '이후', '더욱이는', '각각', '라는', '든간에', '그렇지만', '즈', '에', '있는', '되었다', '따라서', '했다', '할지라도', '단지', '가리키는', '일때', '앗', '여러분', '이다', '중에서', '약간', '가령', '아하', '더군다나', '이자', '고로', '만 못하다', '12월', '그런데', '따지지 않다', '보다', '보는데서', '이러한', '트', '및', '있었다', '비걱거리다', '드', '어', '하며', '아이구', '또한', '된다', '3월', '예하면', '기준으로', '하하', '이라고', '1월', 'm', '이며', '근거하여', '끙끙', '왜', '이젠', '향해서', '\\\\xa0', '7월', '하물며', '이리하여', '훨씬', '와의', '관한', '다', '흐흐', '까지', '하도록하다', '이는', '즉', '타다', '제각기', '생각한대로', '대하여', '이나', '쪽으로', '얼마', '부터', '더', '대한', '좀', '헐떡헐떡', '진짜로', '에서', '3', '답다', '여보시오', '흥', '어째서', '사', '반드시', '라', '들', '10월', '할뿐', '제외하고', '한다면', '에게', '에서는', '되어', '9월', '또는', '뿐이다', '보드득', '하마터면', '된바에야', '이루어져', '하는', '라고', '했고', '얼마큼', '여', '좍좍', '헉헉', '이 외에', '모든', '후', '반대로 말하자면', '이를', '논하지 않다', '으로써', '설사', '으로', '혹시', '지만', '다음에', '그리고', '막론하고', '제', '콸콸', '전', '등등', '으로는', '인젠', '하지마라', '무슨', '삐걱거리다', '아야', '하지', '과', '아이쿠', '어찌', '그', '한', '이외에도', '허허', '되는', '에 가서', '로써', '수록', '해서는 안된다', '이 밖에', '마', '이었다', '다만', '위해', '것', '6월', '바꾸어서 말하면', '하여야', '11월', '속', '같다', '다소', '향하여', '이', '여기', '저희', '우스', '기점으로', '바꾸어말하자면', '겨우', '4월', '입각하여', '이봐', '거니와', '일지라도', '조금', '때가 되어', '에도', '로서', '대하면', '지든지', '이곳', '어기여차', '예를 들면', '반대로', '대하', '한적이있다', '이와 반대로', '정도', '하였고', '곳', '지', '언제', '우리', '대해서', '8', '관하여', '아', '있다', '소생', '외에도', '비로소', '무엇때문에', '다수', '나', '로', '데', '영차', '할줄알다', '더라도', '또', '한다', '대해 말하자면', '경우', '되고', '만이 아니다', '다른', '수', '하기 때문에', '주룩주룩', '된이상', '와', '고', '야', '를', '할', '불문하고', '실로', '어디', '향하다', '각', '뒤', '함께', '저', '하고', '꽈당', '에는', '뚝뚝', '의해', '는', '8월', '하지만', '얼마만큼', '가', '장', '하자', '하여', '하곤하였다', '있으며', '그리하여', '각종', '자', '히', '그렇게 함으로써'}\n",
      "356\n"
     ]
    }
   ],
   "source": [
    "# 불용어 불러오기\n",
    "path2='kor_stopword2.csv'\n",
    "\n",
    "stopWord=set()\n",
    "with open(path2,'r') as file:\n",
    "    for word in file:\n",
    "        stopWord.add(word.rstrip(\"\\n\"))\n",
    "\n",
    "# 불용어 출력\n",
    "print(stopWord)\n",
    "print(len(stopWord))"
   ]
  },
  {
   "cell_type": "code",
   "execution_count": 6,
   "metadata": {},
   "outputs": [],
   "source": [
    "# stopWord를 pickle 파일로\n",
    "with open('stopWordSet.pickle','wb') as fw:\n",
    "    pickle.dump(stopWord,fw)"
   ]
  },
  {
   "cell_type": "markdown",
   "metadata": {},
   "source": [
    "# 학습을 위한 불용어 제거 및 문장별 태깅"
   ]
  },
  {
   "cell_type": "code",
   "execution_count": 4,
   "metadata": {
    "colab": {
     "base_uri": "https://localhost:8080/",
     "height": 340
    },
    "id": "0AteknXEbfu5",
    "outputId": "f4241bd8-8580-4b96-d333-cc248ab815b8"
   },
   "outputs": [
    {
     "name": "stdout",
     "output_type": "stream",
     "text": [
      "100000\n",
      "200000\n",
      "300000\n",
      "400000\n",
      "500000\n",
      "600000\n",
      "700000\n",
      "800000\n",
      "900000\n",
      "1000000\n",
      "1100000\n",
      "1200000\n",
      "1300000\n",
      "1400000\n",
      "1500000\n",
      "1600000\n",
      "1700000\n",
      "1800000\n",
      "1900000\n"
     ]
    }
   ],
   "source": [
    "from gensim.models.doc2vec import TaggedDocument\n",
    "\n",
    "result = []\n",
    "i=0\n",
    "\n",
    "for L,tag in user_loaded:\n",
    "    i+=1\n",
    "    #1만개씩 저장\n",
    "    if i%100000==0:\n",
    "        with open('data/'+str(i)+'.pickle','wb') as fw:\n",
    "            pickle.dump(result, fw)\n",
    "        result=[]\n",
    "        print(i)\n",
    "    #불용어는 제거\n",
    "    temp=[]\n",
    "    #한단어씩 확인\n",
    "    for word in L:\n",
    "        if (len(word)!=1) and (word not in stopWord):\n",
    "            temp.append(word)\n",
    "\n",
    "    taggedL=TaggedDocument(words=temp, tags=tag[0])\n",
    "    result.append(taggedL)"
   ]
  },
  {
   "cell_type": "code",
   "execution_count": 5,
   "metadata": {
    "id": "TYSaMuodkRIe"
   },
   "outputs": [],
   "source": [
    "with open('data/2000000.pickle','wb') as fw:\n",
    "    pickle.dump(result, fw)"
   ]
  }
 ],
 "metadata": {
  "colab": {
   "collapsed_sections": [],
   "name": "1_remove_stopword",
   "provenance": []
  },
  "kernelspec": {
   "display_name": "Python 3",
   "language": "python",
   "name": "python3"
  },
  "language_info": {
   "codemirror_mode": {
    "name": "ipython",
    "version": 3
   },
   "file_extension": ".py",
   "mimetype": "text/x-python",
   "name": "python",
   "nbconvert_exporter": "python",
   "pygments_lexer": "ipython3",
   "version": "3.7.6"
  }
 },
 "nbformat": 4,
 "nbformat_minor": 1
}
